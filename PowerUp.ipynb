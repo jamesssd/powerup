{
 "cells": [
  {
   "cell_type": "markdown",
   "id": "43035a68-674d-403e-94d1-4a2500c771bb",
   "metadata": {},
   "source": [
    "# Power Platform Fundamental\n",
    "__Challenges business face today__\n",
    "- Budget constraints\n",
    "- Time and resource constraints\n",
    "- Surging digital demand\n",
    "- Software development takes time\n",
    "- Tech skill gap\n",
    "- Legacy system maintenance\n",
    "- Evolving workforce expectations\n",
    "- Security and compliance\n",
    "- Economic downturn\n",
    "- Shift to remote work\n",
    "\n",
    "__Citizen Developer?__\n",
    "- It is a persona that can ve taken on by anyone! A person who does not have a traditional IT background but can create and deploy a no code/ low code application\n",
    "\n",
    "__Tools used in Microsoft Power Platform__\n",
    "- Power Apps: \n",
    "    - used for web and mobile application development\n",
    "    - ability to interact with cloud and on-premises data sources\n",
    "- Power Automate:\n",
    "    - used for process or workflow automation\n",
    "    - helps automate repetitive business processes such as communication, data collections, and decisions approvals.\n",
    "- Power Virtual Agents:\n",
    "    - used for chatbots and conversational agents\n",
    "    - Users can enable chatbots to perform an action, by simply calling a Power Automate flow, which helps users to automate activities or integrate with back-end systems.\n",
    "- Power Pages:\n",
    "    - used for building secure, data-centric business websites\n",
    "    - It is a platform for creating, hosting, and administering modern external-facing business websites.\n",
    "- Power BI:\n",
    "    - used for data exploration, analytivs and reporting\n",
    "    - Share data through data visualizawtions, which make up reports and dashboards to enable fast, informed decisions.\n",
    "**Additional Tools that enchance solutions****\n",
    "- __AI Builder__\n",
    "    - Allows users and developers to add AI capabilitie]7s to the workflows and Power Apps, they create and use.\n",
    "    - Helps predict outcomes to help improve business performance without writing code\n",
    "- __Microsoft Dataverse__\n",
    "    - scalable data service and app platform which lets users securely store and manage data from multiple sources and integrate that data in business applications using a common data model to ensure ease and consistency to user.\n",
    "- __Connectors__\n",
    "    - allows users to connect apps, data, and devices in the cloud.       \n",
    "    - acts as  a bridge across Power Platform\n",
    "  \n",
    "__What is Dataverse?__\n",
    "- it allows you to securely store and manage the data used in apps\n",
    "  - Power apps, office and the dynamics suite of products integrate witha signle system of record for business data\n",
    "\n",
    "\n"
   ]
  }
 ],
 "metadata": {
  "kernelspec": {
   "display_name": "",
   "name": ""
  },
  "language_info": {
   "name": ""
  }
 },
 "nbformat": 4,
 "nbformat_minor": 5
}
